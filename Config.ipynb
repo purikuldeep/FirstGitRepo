{
 "cells": [
  {
   "cell_type": "code",
   "execution_count": 23,
   "metadata": {},
   "outputs": [
    {
     "name": "stdout",
     "output_type": "stream",
     "text": [
      "{'male': {'age': {'city': {'host': 'localhost', 'user': 'root', 'passwd': 'my secret password', 'db': 'write-math'}}}}\n"
     ]
    }
   ],
   "source": [
    "import json\n",
    "with open('config.json') as json_data_file:\n",
    "    data = json.load(json_data_file)\n",
    "print(data)"
   ]
  },
  {
   "cell_type": "code",
   "execution_count": 55,
   "metadata": {},
   "outputs": [
    {
     "name": "stdout",
     "output_type": "stream",
     "text": [
      "List all contents\n",
      "Section: age1_60\n",
      "x 250000:0\n",
      "x 500000:10\n",
      "x 1000000:20\n",
      "x 1000001:30\n",
      "Section: age61_79\n",
      "x 300000:0\n",
      "x 500000:10\n",
      "x 1000000:20\n",
      "x 1000001:30\n",
      "Section: age80\n",
      "x 500000:0\n",
      "x 1000000:20\n",
      "x 1000001:30\n",
      "\n",
      "Print some contents\n"
     ]
    },
    {
     "name": "stderr",
     "output_type": "stream",
     "text": [
      "C:\\Users\\user\\Anaconda3\\lib\\site-packages\\ipykernel_launcher.py:8: DeprecationWarning: This method will be removed in future versions.  Use 'parser.read_file()' instead.\n",
      "  \n"
     ]
    }
   ],
   "source": [
    "import configparser\n",
    "import io\n",
    "\n",
    "# Load the configuration file\n",
    "with open(\"config.ini\") as f:\n",
    "    sample_config = f.read()\n",
    "config = configparser.RawConfigParser(allow_no_value=True)\n",
    "config.readfp(io.StringIO(sample_config))\n",
    "\n",
    "# List all contents\n",
    "print(\"List all contents\")\n",
    "for section in config.sections():\n",
    "    print(\"Section: %s\" % section)\n",
    "    for options in config.options(section):\n",
    "        print(\"x %s:%s\" % (options, config.get(section, options)))\n",
    "\n",
    "# Print some contents\n",
    "print(\"\\nPrint some contents\")\n"
   ]
  },
  {
   "cell_type": "code",
   "execution_count": null,
   "metadata": {},
   "outputs": [],
   "source": []
  }
 ],
 "metadata": {
  "kernelspec": {
   "display_name": "Python 3",
   "language": "python",
   "name": "python3"
  },
  "language_info": {
   "codemirror_mode": {
    "name": "ipython",
    "version": 3
   },
   "file_extension": ".py",
   "mimetype": "text/x-python",
   "name": "python",
   "nbconvert_exporter": "python",
   "pygments_lexer": "ipython3",
   "version": "3.7.1"
  }
 },
 "nbformat": 4,
 "nbformat_minor": 2
}
